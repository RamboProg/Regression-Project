{
 "cells": [
  {
   "cell_type": "code",
   "execution_count": 1,
   "metadata": {},
   "outputs": [
    {
     "name": "stdout",
     "output_type": "stream",
     "text": [
      "Requirement already satisfied: sklearn in c:\\users\\lenovo\\appdata\\local\\programs\\python\\python311\\lib\\site-packages (0.0.post10)\n",
      "Requirement already satisfied: scikit-learn in c:\\users\\lenovo\\appdata\\local\\programs\\python\\python311\\lib\\site-packages (1.3.1)\n",
      "Requirement already satisfied: numpy<2.0,>=1.17.3 in c:\\users\\lenovo\\appdata\\local\\programs\\python\\python311\\lib\\site-packages (from scikit-learn) (1.24.2)\n",
      "Requirement already satisfied: scipy>=1.5.0 in c:\\users\\lenovo\\appdata\\local\\programs\\python\\python311\\lib\\site-packages (from scikit-learn) (1.11.3)\n",
      "Requirement already satisfied: joblib>=1.1.1 in c:\\users\\lenovo\\appdata\\local\\programs\\python\\python311\\lib\\site-packages (from scikit-learn) (1.3.2)\n",
      "Requirement already satisfied: threadpoolctl>=2.0.0 in c:\\users\\lenovo\\appdata\\local\\programs\\python\\python311\\lib\\site-packages (from scikit-learn) (3.2.0)\n",
      "Note: you may need to restart the kernel to use updated packages.\n"
     ]
    },
    {
     "name": "stderr",
     "output_type": "stream",
     "text": [
      "\n",
      "[notice] A new release of pip is available: 23.1.2 -> 23.3\n",
      "[notice] To update, run: python.exe -m pip install --upgrade pip\n"
     ]
    }
   ],
   "source": [
    "%pip install sklearn scikit-learn"
   ]
  },
  {
   "cell_type": "code",
   "execution_count": 2,
   "metadata": {},
   "outputs": [],
   "source": [
    "import numpy as np\n",
    "import pandas as pd\n",
    "from sklearn.metrics import mean_squared_error, mean_absolute_error, r2_score\n",
    "from sklearn.linear_model import LinearRegression\n",
    "from sklearn.preprocessing import PolynomialFeatures\n",
    "from sklearn.preprocessing import OneHotEncoder\n",
    "from sklearn.linear_model import Ridge\n",
    "from sklearn.preprocessing import StandardScaler\n",
    "from sklearn.feature_selection import SelectKBest, f_regression\n",
    "from sklearn.linear_model import Ridge\n",
    "from sklearn.linear_model import Lasso\n",
    "import matplotlib.pyplot as plt\n"
   ]
  },
  {
   "cell_type": "markdown",
   "metadata": {},
   "source": [
    "# Linear Regression"
   ]
  },
  {
   "cell_type": "code",
   "execution_count": 3,
   "metadata": {},
   "outputs": [],
   "source": [
    "#load training data\n",
    "train_data = pd.read_csv('Train.csv')\n",
    "\n",
    "train_data = pd.get_dummies(train_data, columns=['name' ,'fuel','seller_type','transmission', 'owner']) #one-hot encoding for categorical features\n",
    "\n",
    "\n",
    "X_train = train_data.drop('selling_price', axis=1)\n",
    "y_train = train_data['selling_price']"
   ]
  },
  {
   "cell_type": "code",
   "execution_count": 4,
   "metadata": {},
   "outputs": [],
   "source": [
    "#load testing data\n",
    "test_data = pd.read_csv('Test.csv')\n",
    "\n",
    "\n",
    "test_data = pd.get_dummies(test_data, columns=[ 'name', 'fuel', 'seller_type', 'transmission', 'owner']) #one-hot encoding for categorical features\n",
    "\n"
   ]
  },
  {
   "cell_type": "code",
   "execution_count": 5,
   "metadata": {},
   "outputs": [],
   "source": [
    "# Align columns between training and testing data\n",
    "X_train, X_test = X_train.align(test_data, join='outer', axis=1, fill_value=0)\n",
    "y_test = test_data['selling_price']\n",
    "\n",
    "\n"
   ]
  },
  {
   "cell_type": "markdown",
   "metadata": {},
   "source": [
    "\n",
    "## Multi-feature Equation\n"
   ]
  },
  {
   "cell_type": "code",
   "execution_count": 23,
   "metadata": {},
   "outputs": [
    {
     "name": "stdout",
     "output_type": "stream",
     "text": [
      "Intercept (b0): 638271.8077017716\n",
      "Coefficients (b1, b2, ...): [-3.05397497e+04  1.54859325e+05  0.00000000e+00 ...  1.18203098e+02\n",
      " -0.00000000e+00  1.34639720e+05]\n",
      "Mean Squared Error (MSE): 172367305261.575\n",
      "MAE: 151758.52879854286\n",
      "RMSE: 415171.41672034096\n",
      "R^2: 0.48491954216082456\n"
     ]
    },
    {
     "name": "stderr",
     "output_type": "stream",
     "text": [
      "c:\\Users\\LENOVO\\AppData\\Local\\Programs\\Python\\Python311\\Lib\\site-packages\\sklearn\\linear_model\\_coordinate_descent.py:628: ConvergenceWarning: Objective did not converge. You might want to increase the number of iterations, check the scale of the features or consider increasing regularisation. Duality gap: 2.132e+13, tolerance: 5.283e+11\n",
      "  model = cd_fast.enet_coordinate_descent(\n"
     ]
    }
   ],
   "source": [
    "# Create and fit a StandardScaler\n",
    "scaler = StandardScaler()\n",
    "X_train = scaler.fit_transform(X_train)\n",
    "X_test = scaler.transform(X_test)\n",
    "\n",
    "# Create and fit a Lasso Regression model\n",
    "alpha = 0.01  # Adjust alpha based on your dataset\n",
    "model = Lasso(alpha=alpha)\n",
    "model.fit(X_train, y_train)\n",
    "\n",
    "\n",
    "################# X_tilda still needs work #################\n",
    "# # Predict y using ~x for training data\n",
    "# ones_column_train = np.ones((X_train.shape[0], 1))\n",
    "# x_train_tilda = np.hstack((X_train, ones_column_train))\n",
    "# y_pred_train = model.predict(x_train_tilda)\n",
    "\n",
    "# # Predict y using ~x for testing data\n",
    "# ones_column_test = np.ones((X_test.shape[0], 1))\n",
    "# x_test_tilda = np.hstack((X_test, ones_column_test))\n",
    "# y_test_pred = model.predict(x_test_tilda)\n",
    "y_test_pred = model.predict(X_test)\n",
    "\n",
    "# Calculate evaluation metrics for testing data\n",
    "MAE_MF = mean_absolute_error(y_test, y_test_pred)\n",
    "MSE_MF = mean_squared_error(y_test, y_test_pred)\n",
    "RMSE_MF = np.sqrt(MSE_MF)\n",
    "r2 = r2_score(y_test, y_test_pred)\n",
    "\n",
    "# Print the model coefficients and evaluation metrics\n",
    "print(\"Intercept (b0):\", model.intercept_)\n",
    "print(\"Coefficients (b1, b2, ...):\", model.coef_)\n",
    "print(\"Mean Squared Error (MSE):\", MSE_MF)\n",
    "print(\"MAE:\", MAE_MF)\n",
    "print(\"RMSE:\", RMSE_MF)\n",
    "print(\"R^2:\", r2)\n"
   ]
  },
  {
   "cell_type": "markdown",
   "metadata": {},
   "source": [
    "## Gradient Descent\n"
   ]
  },
  {
   "cell_type": "code",
   "execution_count": 7,
   "metadata": {},
   "outputs": [
    {
     "name": "stdout",
     "output_type": "stream",
     "text": [
      "Intercept (b0): 638271.8077017716\n",
      "Coefficients (β):: [  -7474.0432867    55886.78427344       0.         ...  127169.59244343\n",
      " -127169.59244343   92216.15817894]\n",
      "Mean Squared Error (MSE): 129289850721.75423\n",
      "MAE: 145719.30951818792\n",
      "RMSE: 359568.9790871207\n",
      "R^2: 0.6136467098405962\n"
     ]
    }
   ],
   "source": [
    "# Gradient Descent Approach\n",
    "def gradient_descent(X, y, learning_rate, n_iterations):\n",
    "    m = y.size\n",
    "    theta = np.zeros(X.shape[1])\n",
    "    for _ in range(n_iterations):\n",
    "        gradient = 2/m * X.T.dot(X.dot(theta) - y)\n",
    "        theta = theta - learning_rate * gradient\n",
    "    return theta\n",
    "\n",
    "scaler = StandardScaler()\n",
    "X_train_scaled = scaler.fit_transform(X_train)\n",
    "X_test_scaled = scaler.transform(X_test)\n",
    "\n",
    "theta_train = gradient_descent( X_train_scaled, y_train, learning_rate=0.001, n_iterations=500)\n",
    "\n",
    "# Create a Ridge regression object\n",
    "ridge = Ridge(alpha=2.0)\n",
    "\n",
    "# Fit the model to the training data\n",
    "ridge.fit(X_train_scaled, y_train)\n",
    "\n",
    "# Make predictions on the test set\n",
    "y_pred = ridge.predict(X_test_scaled)\n",
    "\n",
    "# Calculate error metrics\n",
    "mse = mean_squared_error(y_test, y_pred)\n",
    "mae = mean_absolute_error(y_test, y_pred)\n",
    "r2grad = r2_score(y_test, y_pred)\n",
    "rmse = np.sqrt(mse)\n",
    "\n",
    "\n",
    "\n",
    "# Print the model coefficients and evaluation metrics\n",
    "print(\"Intercept (b0):\", ridge.intercept_)\n",
    "print(f\"Coefficients (β):: {theta_train}\")\n",
    "print(\"Mean Squared Error (MSE):\", mse)\n",
    "print(\"MAE:\", mae)\n",
    "print(\"RMSE:\", rmse)\n",
    "print(\"R^2:\", r2grad)"
   ]
  },
  {
   "cell_type": "code",
   "execution_count": 8,
   "metadata": {},
   "outputs": [
    {
     "name": "stdout",
     "output_type": "stream",
     "text": [
      "Multi-Feature: MSE = 172367305261.57367 RMSE = 415171.41672033933 MAE = 151758.52879854245\n",
      "Gradient Descent: MSE = 129289850721.75423 RMSE = 359568.9790871207 MAE = 145719.30951818792\n"
     ]
    }
   ],
   "source": [
    "def comapreRes(maeMF, mseMF, rmseMF, mae, mse, rmse):\n",
    "    print(\"Multi-Feature: MSE =\", mseMF, \"RMSE =\", rmseMF, \"MAE =\", maeMF)\n",
    "    print(\"Gradient Descent: MSE =\", mse, \"RMSE =\", rmse, \"MAE =\", mae)\n",
    "\n",
    "comapreRes(MAE_MF, MSE_MF, RMSE_MF, mae, mse, rmse)"
   ]
  },
  {
   "cell_type": "markdown",
   "metadata": {},
   "source": [
    "# Polynomial Regression"
   ]
  },
  {
   "cell_type": "code",
   "execution_count": 9,
   "metadata": {},
   "outputs": [],
   "source": [
    "## Optimize data to avoid memory error\n",
    "# Select top k features\n",
    "selector = SelectKBest(f_regression, k=10)\n",
    "X_train_scaled_new = selector.fit_transform(X_train_scaled, y_train)\n",
    "X_test_scaled_new = selector.transform(X_test_scaled)"
   ]
  },
  {
   "cell_type": "code",
   "execution_count": 1,
   "metadata": {},
   "outputs": [
    {
     "ename": "NameError",
     "evalue": "name 'PolynomialFeatures' is not defined",
     "output_type": "error",
     "traceback": [
      "\u001b[1;31m---------------------------------------------------------------------------\u001b[0m",
      "\u001b[1;31mNameError\u001b[0m                                 Traceback (most recent call last)",
      "\u001b[1;32md:\\cODING\\MLProject\\MLProject.ipynb Cell 14\u001b[0m line \u001b[0;36m6\n\u001b[0;32m      <a href='vscode-notebook-cell:/d%3A/cODING/MLProject/MLProject.ipynb#X16sZmlsZQ%3D%3D?line=2'>3</a>\u001b[0m rmse_values \u001b[39m=\u001b[39m [\u001b[39m0\u001b[39m] \u001b[39m*\u001b[39m \u001b[39m10\u001b[39m  \u001b[39m# Preallocate with zeros\u001b[39;00m\n\u001b[0;32m      <a href='vscode-notebook-cell:/d%3A/cODING/MLProject/MLProject.ipynb#X16sZmlsZQ%3D%3D?line=4'>5</a>\u001b[0m \u001b[39m# Create a PolynomialFeatures object outside the loop\u001b[39;00m\n\u001b[1;32m----> <a href='vscode-notebook-cell:/d%3A/cODING/MLProject/MLProject.ipynb#X16sZmlsZQ%3D%3D?line=5'>6</a>\u001b[0m poly_features \u001b[39m=\u001b[39m PolynomialFeatures()\n\u001b[0;32m      <a href='vscode-notebook-cell:/d%3A/cODING/MLProject/MLProject.ipynb#X16sZmlsZQ%3D%3D?line=7'>8</a>\u001b[0m \u001b[39m# Transform the features to polynomial features only once\u001b[39;00m\n\u001b[0;32m      <a href='vscode-notebook-cell:/d%3A/cODING/MLProject/MLProject.ipynb#X16sZmlsZQ%3D%3D?line=8'>9</a>\u001b[0m X_train_poly \u001b[39m=\u001b[39m poly_features\u001b[39m.\u001b[39mfit_transform(X_train_scaled_new)\n",
      "\u001b[1;31mNameError\u001b[0m: name 'PolynomialFeatures' is not defined"
     ]
    }
   ],
   "source": [
    "# Initialize lists to store degrees and corresponding RMSE values\n",
    "degrees = list(range(1, 11))\n",
    "rmse_values = [0] * 10  # Preallocate with zeros\n",
    "\n",
    "# Create a PolynomialFeatures object outside the loop\n",
    "poly_features = PolynomialFeatures()\n",
    "\n",
    "# Transform the features to polynomial features only once\n",
    "X_train_poly = poly_features.fit_transform(X_train_scaled_new)\n",
    "X_test_poly = poly_features.transform(X_test_scaled_new)\n",
    "\n",
    "# Loop over degrees and calculate RMSE\n",
    "for degree in degrees:\n",
    "    # Create a Linear Regression object and fit the model to the training data\n",
    "    poly_reg = LinearRegression().fit(X_train_poly[:, :degree + 1], y_train)  # Use only the necessary columns\n",
    "    \n",
    "    # Make predictions on the test set and calculate RMSE\n",
    "    y_pred = poly_reg.predict(X_test_poly[:, :degree + 1])  # Use the same degree for testing\n",
    "    rmse = np.sqrt(mean_squared_error(y_test, y_pred))\n",
    "    \n",
    "    # Assign RMSE to the corresponding index in the list\n",
    "    rmse_values[degree - 1] = rmse\n"
   ]
  },
  {
   "cell_type": "code",
   "execution_count": 11,
   "metadata": {},
   "outputs": [
    {
     "data": {
      "image/png": "[encoded data removed]",
      "text/plain": [
       "<Figure size 1000x600 with 1 Axes>"
      ]
     },
     "metadata": {},
     "output_type": "display_data"
    }
   ],
   "source": [
    "# Plot degree vs RMSE\n",
    "plt.figure(figsize=(10, 6))\n",
    "plt.plot(degrees, rmse_values, marker='o')\n",
    "plt.xlabel('Degree of Polynomial')\n",
    "plt.ylabel('Root Mean Squared Error (RMSE)')\n",
    "plt.title('Polynomial Regression: Degree vs RMSE')\n",
    "plt.grid(True)\n",
    "plt.show()"
   ]
  }
 ],
 "metadata": {
  "kernelspec": {
   "display_name": "Python 3",
   "language": "python",
   "name": "python3"
  },
  "language_info": {
   "codemirror_mode": {
    "name": "ipython",
    "version": 3
   },
   "file_extension": ".py",
   "mimetype": "text/x-python",
   "name": "python",
   "nbconvert_exporter": "python",
   "pygments_lexer": "ipython3",
   "version": "3.11.3"
  }
 },
 "nbformat": 4,
 "nbformat_minor": 2
}
